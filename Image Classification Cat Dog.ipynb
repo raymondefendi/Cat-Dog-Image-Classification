{
  "nbformat": 4,
  "nbformat_minor": 0,
  "metadata": {
    "colab": {
      "name": "Sem5_UTS_DL_RAYMOOND_2301872831.ipynb",
      "provenance": [],
      "collapsed_sections": []
    },
    "kernelspec": {
      "name": "python3",
      "display_name": "Python 3"
    },
    "language_info": {
      "name": "python"
    },
    "accelerator": "GPU"
  },
  "cells": [
    {
      "cell_type": "markdown",
      "metadata": {
        "id": "lfD6EApj6LDr"
      },
      "source": [
        ""
      ]
    },
    {
      "cell_type": "markdown",
      "metadata": {
        "id": "4hXz2N_HtvQj"
      },
      "source": [
        "# UTS DL NO 3\n",
        "**Raymoond 2301872381**"
      ]
    },
    {
      "cell_type": "markdown",
      "metadata": {
        "id": "pCzHgX9y2342"
      },
      "source": [
        "# Import dataset & Library\n",
        "disini saya melakukan import dari dataset dan library yang akan digukanakan nanti dalam code\n"
      ]
    },
    {
      "cell_type": "code",
      "metadata": {
        "id": "kpULmHIlVEfP"
      },
      "source": [
        "import tensorflow as tf\n",
        "import matplotlib.pyplot as plt\n",
        "import numpy as np\n",
        "import pandas as pd\n",
        "import seaborn as sns\n",
        "from sklearn.datasets import make_classification\n",
        "from keras.models import Sequential\n",
        "from sklearn.preprocessing import OrdinalEncoder\n",
        "from tensorflow.keras.datasets import cifar10\n",
        "from sklearn.metrics import classification_report\n",
        "from sklearn.metrics import accuracy_score\n",
        "from sklearn.metrics import confusion_matrix\n",
        "from sklearn.preprocessing import StandardScaler\n",
        "from sklearn.model_selection import train_test_split\n",
        "from tensorflow.keras.utils import to_categorical\n",
        "from tensorflow.keras import layers\n",
        "from keras.models import Sequential\n",
        "from keras.layers import Dense, Dropout\n",
        "from tensorflow.keras.layers import BatchNormalization, Conv2D, MaxPooling2D, Dense, Dropout, Flatten, experimental , MaxPool2D"
      ],
      "execution_count": 1,
      "outputs": []
    },
    {
      "cell_type": "code",
      "metadata": {
        "id": "67j6Fgs-VJDz",
        "colab": {
          "base_uri": "https://localhost:8080/"
        },
        "outputId": "e4b30f84-c93b-471f-a746-1e7e3c4374ba"
      },
      "source": [
        "dataset=cifar10.load_data()\n",
        "(x_train,y_train),(x_test,y_test)=cifar10.load_data()"
      ],
      "execution_count": 2,
      "outputs": [
        {
          "output_type": "stream",
          "name": "stdout",
          "text": [
            "Downloading data from https://www.cs.toronto.edu/~kriz/cifar-10-python.tar.gz\n",
            "170500096/170498071 [==============================] - 6s 0us/step\n",
            "170508288/170498071 [==============================] - 6s 0us/step\n"
          ]
        }
      ]
    },
    {
      "cell_type": "code",
      "metadata": {
        "id": "cb1pZ-xc37J8"
      },
      "source": [
        "x_train = x_train[np.isin(y_train,[1,3,5,9]).flatten()]\n",
        "y_train = y_train[np.isin(y_train,[1,3,5,9]).flatten()]\n",
        "x_test = x_test[np.isin(y_test,[1,3,5,9]).flatten()]\n",
        "y_test = y_test[np.isin(y_test,[1,3,5,9]).flatten()]"
      ],
      "execution_count": 3,
      "outputs": []
    },
    {
      "cell_type": "markdown",
      "metadata": {
        "id": "_W4JB7DF3CEj"
      },
      "source": [
        "# Preprocess data\n",
        "Sebelum data dapat digunakan maka data saya preprocess terlebih dahulu dengan ordinal encoder dan mengubah x tran menjadi float serta membagi nya ke 255 "
      ]
    },
    {
      "cell_type": "code",
      "metadata": {
        "id": "2pF0C7NVGioo"
      },
      "source": [
        "ordinal = OrdinalEncoder().fit(y_train)\n",
        "y_train = ordinal.transform(y_train)\n",
        "y_test = ordinal.transform(y_test)"
      ],
      "execution_count": 4,
      "outputs": []
    },
    {
      "cell_type": "code",
      "metadata": {
        "id": "GIzZoTSzGylW"
      },
      "source": [
        "x_train =x_train.astype('float32')\n",
        "x_test =x_test.astype('float32')"
      ],
      "execution_count": 5,
      "outputs": []
    },
    {
      "cell_type": "code",
      "metadata": {
        "id": "v3_EOHV3VvWU"
      },
      "source": [
        "x_train=x_train/255.0\n",
        "x_test=x_test/255.0"
      ],
      "execution_count": 6,
      "outputs": []
    },
    {
      "cell_type": "markdown",
      "metadata": {
        "id": "wuyOTGNx3SdQ"
      },
      "source": [
        "# Modelling & print model\n",
        "disini saya melakukan modeling sesuai dengan yang soal inginkan yaitu \n",
        "input (32x32x3) and the suggested architecture of your CNN is\n",
        "as follows: Conv(16,3x3), Relu, Conv(32,3x3), Relu, Conv(64,3x3), 2FC, and Softmax(4).\n",
        "\n",
        "dan mendapatkan hasil accuracy sebagai berikut\n"
      ]
    },
    {
      "cell_type": "code",
      "metadata": {
        "id": "ASys4Pvtm9HX"
      },
      "source": [
        "cifar10_model=Sequential()\n",
        "cifar10_model.add(Conv2D(filters=16,kernel_size=3,padding=\"same\", activation=\"relu\", input_shape=[32,32,3]))\n",
        "cifar10_model.add(Conv2D(filters=32,kernel_size=3,padding=\"same\", activation=\"relu\"))\n",
        "cifar10_model.add(Conv2D(filters=64,kernel_size=3,padding=\"same\", activation=\"relu\"))\n",
        "cifar10_model.add(MaxPool2D(pool_size=2,strides=2,padding='valid'))\n",
        "cifar10_model.add(Flatten())\n",
        "cifar10_model.add(Dropout(0.5,noise_shape=None,seed=None))\n",
        "cifar10_model.add(Dense(units=128,activation='relu'))\n",
        "cifar10_model.add(Dense(units=128,activation='relu'))\n",
        "cifar10_model.add(Dense(units=4,activation='softmax'))"
      ],
      "execution_count": 7,
      "outputs": []
    },
    {
      "cell_type": "code",
      "metadata": {
        "id": "uyxEzeJk-__B"
      },
      "source": [
        "cifar10_model.compile(loss=\"sparse_categorical_crossentropy\", optimizer=\"Adam\", metrics=[\"Accuracy\"])"
      ],
      "execution_count": 8,
      "outputs": []
    },
    {
      "cell_type": "code",
      "metadata": {
        "colab": {
          "base_uri": "https://localhost:8080/"
        },
        "id": "gANHiccW_ByO",
        "outputId": "84c0d761-478c-4d22-8aa3-651775362ebd"
      },
      "source": [
        "cifar10_model.fit(x_train,y_train,epochs=15,validation_data = (x_test,y_test))"
      ],
      "execution_count": 9,
      "outputs": [
        {
          "output_type": "stream",
          "name": "stdout",
          "text": [
            "Epoch 1/15\n",
            "625/625 [==============================] - 21s 14ms/step - loss: 0.7937 - Accuracy: 0.6317 - val_loss: 0.6305 - val_Accuracy: 0.7147\n",
            "Epoch 2/15\n",
            "625/625 [==============================] - 8s 12ms/step - loss: 0.5944 - Accuracy: 0.7366 - val_loss: 0.5650 - val_Accuracy: 0.7510\n",
            "Epoch 3/15\n",
            "625/625 [==============================] - 8s 12ms/step - loss: 0.5088 - Accuracy: 0.7784 - val_loss: 0.5299 - val_Accuracy: 0.7598\n",
            "Epoch 4/15\n",
            "625/625 [==============================] - 7s 12ms/step - loss: 0.4360 - Accuracy: 0.8124 - val_loss: 0.5163 - val_Accuracy: 0.7797\n",
            "Epoch 5/15\n",
            "625/625 [==============================] - 8s 12ms/step - loss: 0.3704 - Accuracy: 0.8415 - val_loss: 0.5100 - val_Accuracy: 0.7918\n",
            "Epoch 6/15\n",
            "625/625 [==============================] - 8s 12ms/step - loss: 0.3194 - Accuracy: 0.8678 - val_loss: 0.5491 - val_Accuracy: 0.7850\n",
            "Epoch 7/15\n",
            "625/625 [==============================] - 7s 12ms/step - loss: 0.2641 - Accuracy: 0.8900 - val_loss: 0.5977 - val_Accuracy: 0.7822\n",
            "Epoch 8/15\n",
            "625/625 [==============================] - 7s 12ms/step - loss: 0.2222 - Accuracy: 0.9115 - val_loss: 0.5819 - val_Accuracy: 0.7880\n",
            "Epoch 9/15\n",
            "625/625 [==============================] - 7s 12ms/step - loss: 0.1859 - Accuracy: 0.9276 - val_loss: 0.6359 - val_Accuracy: 0.7905\n",
            "Epoch 10/15\n",
            "625/625 [==============================] - 8s 12ms/step - loss: 0.1513 - Accuracy: 0.9388 - val_loss: 0.6710 - val_Accuracy: 0.7820\n",
            "Epoch 11/15\n",
            "625/625 [==============================] - 7s 12ms/step - loss: 0.1355 - Accuracy: 0.9472 - val_loss: 0.7561 - val_Accuracy: 0.7920\n",
            "Epoch 12/15\n",
            "625/625 [==============================] - 8s 12ms/step - loss: 0.1260 - Accuracy: 0.9531 - val_loss: 0.7175 - val_Accuracy: 0.7980\n",
            "Epoch 13/15\n",
            "625/625 [==============================] - 7s 12ms/step - loss: 0.1109 - Accuracy: 0.9583 - val_loss: 0.9072 - val_Accuracy: 0.7735\n",
            "Epoch 14/15\n",
            "625/625 [==============================] - 7s 12ms/step - loss: 0.0954 - Accuracy: 0.9646 - val_loss: 0.7821 - val_Accuracy: 0.7947\n",
            "Epoch 15/15\n",
            "625/625 [==============================] - 8s 12ms/step - loss: 0.0949 - Accuracy: 0.9656 - val_loss: 0.8263 - val_Accuracy: 0.7835\n"
          ]
        },
        {
          "output_type": "execute_result",
          "data": {
            "text/plain": [
              "<keras.callbacks.History at 0x7f77900719d0>"
            ]
          },
          "metadata": {},
          "execution_count": 9
        }
      ]
    },
    {
      "cell_type": "markdown",
      "metadata": {
        "id": "cwZUXKlT3pZO"
      },
      "source": [
        "# Classificatin report & Conffusion matrix\n",
        "Pada akhirnyas saya menpredict data tadi dan mengubah value yang dibawah 0.5 mejadi 1, stelah itu saya memperlihatkan coffusion matrix dan mengeprint classification reprot serta accuracy dari predictnya"
      ]
    },
    {
      "cell_type": "code",
      "metadata": {
        "id": "TfZ_80lTfNy6"
      },
      "source": [
        "Predict = cifar10_model.predict(x_test)\n",
        "Predict = (Predict > 0.5).astype(int)"
      ],
      "execution_count": 10,
      "outputs": []
    },
    {
      "cell_type": "code",
      "metadata": {
        "colab": {
          "base_uri": "https://localhost:8080/",
          "height": 282
        },
        "id": "eBES3v2ZfYVk",
        "outputId": "48d88f53-2448-4ed6-bdbe-4f0b6e1f7dab"
      },
      "source": [
        "# Confusion Matrix\n",
        "Conf = confusion_matrix(\n",
        "    y_test.argmax(axis=1), Predict.argmax(axis=1))\n",
        "sns.heatmap(Conf/np.sum(Conf), annot=True, \n",
        "            fmt='.2%', cmap='Oranges')"
      ],
      "execution_count": 11,
      "outputs": [
        {
          "output_type": "execute_result",
          "data": {
            "text/plain": [
              "<matplotlib.axes._subplots.AxesSubplot at 0x7f77244c6490>"
            ]
          },
          "metadata": {},
          "execution_count": 11
        },
        {
          "output_type": "display_data",
          "data": {
            "image/png": "[encoded data removed]",
            "text/plain": [
              "<Figure size 432x288 with 2 Axes>"
            ]
          },
          "metadata": {
            "needs_background": "light"
          }
        }
      ]
    },
    {
      "cell_type": "code",
      "metadata": {
        "colab": {
          "base_uri": "https://localhost:8080/"
        },
        "id": "uA2TCfP_g6R9",
        "outputId": "7181cfea-11ec-4894-8aec-f808a757250f"
      },
      "source": [
        "print(classification_report(y_test.argmax(axis=1), Predict.argmax(axis=1), labels=[0,1]))"
      ],
      "execution_count": 12,
      "outputs": [
        {
          "output_type": "stream",
          "name": "stdout",
          "text": [
            "              precision    recall  f1-score   support\n",
            "\n",
            "           0       1.00      0.28      0.44      4000\n",
            "           1       0.00      0.00      0.00         0\n",
            "\n",
            "   micro avg       0.57      0.28      0.37      4000\n",
            "   macro avg       0.50      0.14      0.22      4000\n",
            "weighted avg       1.00      0.28      0.44      4000\n",
            "\n"
          ]
        },
        {
          "output_type": "stream",
          "name": "stderr",
          "text": [
            "/usr/local/lib/python3.7/dist-packages/sklearn/metrics/_classification.py:1308: UndefinedMetricWarning: Recall and F-score are ill-defined and being set to 0.0 in labels with no true samples. Use `zero_division` parameter to control this behavior.\n",
            "  _warn_prf(average, modifier, msg_start, len(result))\n",
            "/usr/local/lib/python3.7/dist-packages/sklearn/metrics/_classification.py:1308: UndefinedMetricWarning: Recall and F-score are ill-defined and being set to 0.0 in labels with no true samples. Use `zero_division` parameter to control this behavior.\n",
            "  _warn_prf(average, modifier, msg_start, len(result))\n",
            "/usr/local/lib/python3.7/dist-packages/sklearn/metrics/_classification.py:1308: UndefinedMetricWarning: Recall and F-score are ill-defined and being set to 0.0 in labels with no true samples. Use `zero_division` parameter to control this behavior.\n",
            "  _warn_prf(average, modifier, msg_start, len(result))\n"
          ]
        }
      ]
    },
    {
      "cell_type": "code",
      "metadata": {
        "colab": {
          "base_uri": "https://localhost:8080/"
        },
        "id": "viPm78d8g8V6",
        "outputId": "7219c0e7-2362-40ac-b418-f3619ccf9612"
      },
      "source": [
        "accuracy_score(y_test.argmax(axis=1), Predict.argmax(axis=1))"
      ],
      "execution_count": 13,
      "outputs": [
        {
          "output_type": "execute_result",
          "data": {
            "text/plain": [
              "0.2795"
            ]
          },
          "metadata": {},
          "execution_count": 13
        }
      ]
    },
    {
      "cell_type": "markdown",
      "metadata": {
        "id": "if816ygpuvC4"
      },
      "source": [
        "Dan akhirnya saya melakukan prediction dan memperlihatkan predictionya dengan confusion matrix saya juga memperlihatka  recall dan f1 score dari data diatas"
      ]
    }
  ]
}